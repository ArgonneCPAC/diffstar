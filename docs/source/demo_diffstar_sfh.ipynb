{
 "cells": [
  {
   "cell_type": "markdown",
   "id": "95b15d28",
   "metadata": {},
   "source": [
    "# Calculating SFH with Diffstar and DiffstarPop\n",
    "\n",
    "This notebook gives two basic illustrations of how to use diffstar to model the SFHs of individual and populations of galaxies.\n",
    "\n",
    "### SFH of an individual diffstar galaxy\n",
    "\n",
    "In the cell below, we'll use the default diffmah and diffstar parameters, and then use the `sfh_singlegal` function to calculate the SFH."
   ]
  },
  {
   "cell_type": "code",
   "execution_count": null,
   "id": "e4643163",
   "metadata": {},
   "outputs": [],
   "source": [
    "import subprocess\n",
    "from matplotlib import pyplot as plt\n",
    "\n",
    "\n",
    "def try_enable_latex():\n",
    "    \"\"\"Try enabling LaTeX text rendering in matplotlib,\n",
    "    fallback if not available.\"\"\"\n",
    "    try:\n",
    "        # Quick check: can we run latex?\n",
    "        subprocess.check_call(\n",
    "            [\"latex\", \"--version\"],\n",
    "            stdout=subprocess.DEVNULL,\n",
    "            stderr=subprocess.DEVNULL,\n",
    "        )\n",
    "        plt.rc(\"text\", usetex=True)\n",
    "        plt.rc(\"font\", family=\"serif\", size=22)\n",
    "        plt.rc('figure', figsize=(6,4)) \n",
    "        print(\"LaTeX rendering enabled.\")\n",
    "    except (subprocess.CalledProcessError, FileNotFoundError):\n",
    "        # LaTeX not installed or failed\n",
    "        plt.rc(\"text\", usetex=False)\n",
    "        plt.rc(\"font\", family=\"serif\", size=22)\n",
    "        plt.rc('figure', figsize=(6,4)) \n",
    "        print(\"LaTeX not available, falling back to default mathtext.\")\n",
    "\n",
    "try_enable_latex()"
   ]
  },
  {
   "cell_type": "code",
   "execution_count": null,
   "id": "762e2180",
   "metadata": {},
   "outputs": [],
   "source": [
    "import numpy as np\n",
    "from diffmah.defaults import DEFAULT_MAH_PARAMS\n",
    "from diffstar.defaults import DEFAULT_DIFFSTAR_PARAMS\n",
    "\n",
    "today_gyr = 13.8 \n",
    "tarr = np.linspace(0.9, today_gyr, 100)"
   ]
  },
  {
   "cell_type": "code",
   "execution_count": null,
   "id": "3d793eb0",
   "metadata": {},
   "outputs": [],
   "source": [
    "from diffstar import calc_sfh_singlegal\n",
    "\n",
    "sfh_gal = calc_sfh_singlegal(\n",
    "    DEFAULT_DIFFSTAR_PARAMS, DEFAULT_MAH_PARAMS, tarr)"
   ]
  },
  {
   "cell_type": "code",
   "execution_count": null,
   "id": "b18b32ac-825f-46d9-8f5f-f8f6cdb44556",
   "metadata": {},
   "outputs": [],
   "source": [
    "\n",
    "fig, ax = plt.subplots(1, 1)\n",
    "ylim = ax.set_ylim(2e-3, 50)\n",
    "yscale = ax.set_yscale('log')\n",
    "\n",
    "__=ax.plot(tarr, sfh_gal, color='k')\n",
    "\n",
    "xlabel = ax.set_xlabel(r'${\\rm cosmic\\ time\\ [Gyr]}$')\n",
    "ylabel = ax.set_ylabel(r'${\\rm SFR\\ [M_{\\odot}/yr]}$')\n",
    "ax.set_xticks(np.arange(1.0, 14.0, 2.0))"
   ]
  },
  {
   "cell_type": "markdown",
   "id": "ee664cae",
   "metadata": {},
   "source": [
    "### Generating populations of galaxy SFHs with DiffstarPop\n",
    "\n",
    "DiffstarPop is a population-level model of Diffstar SFHs. DiffstarPop is formulated to capture $P(\\theta_{\\rm SFH}\\vert\\theta_{\\rm MAH}),$\n",
    "the PDF of diffstar properties, $\\theta_{\\rm SFH},$ conditioned on the diffmah parameters of halo mass assembly, $\\theta_{\\rm MAH}.$ \n",
    "\n",
    "In the cells below, we will first create a population of halos all with the same diffmah parameters, `DEFAULT_MAH_PARAMS`. And then we will use DiffstarPop to create a Monte Carlo realization of the galaxy SFHs that live in the halos. As an alternative, you could use the DiffmahPop model to create a Monte Carlo realization of halo MAHs, or you could use the best-fitting diffmah parameters taken from an N-body simulation.\n",
    "\n",
    "The DiffstarPop model produces different SFH distributions for central vs satellite halos. For purposes of this demonstration, we will create a population of central halos. And so when creating our population of halos with the same MAHs, we will use fill values appropriate for centrals for all additional satellite-specific arguments."
   ]
  },
  {
   "cell_type": "code",
   "execution_count": null,
   "id": "1abbf91c-f0a4-4c51-a23e-6bf86974b2b3",
   "metadata": {},
   "outputs": [],
   "source": [
    "from jax import random as jran\n",
    "ran_key = jran.key(0)"
   ]
  },
  {
   "cell_type": "code",
   "execution_count": null,
   "id": "13c6cb77-a6ca-46d1-a2f2-ef1a2cb365f5",
   "metadata": {},
   "outputs": [],
   "source": [
    "from diffstar.diffstarpop import mc_diffstar_sfh_galpop, DEFAULT_DIFFSTARPOP_PARAMS\n",
    "from diffmah import logmh_at_t_obs\n",
    "\n",
    "n_halos = 5_000\n",
    "ZZ = np.zeros(n_halos)\n",
    "\n",
    "ran_key, sfh_key = jran.split(ran_key, 2)\n",
    "\n",
    "mah_params = DEFAULT_MAH_PARAMS._make([x+ZZ for x in DEFAULT_MAH_PARAMS])\n",
    "logmp0 = logmh_at_t_obs(mah_params, today_gyr, np.log10(today_gyr))"
   ]
  },
  {
   "cell_type": "code",
   "execution_count": null,
   "id": "205c5ef6-f233-4797-b3ff-c6f0d24268f7",
   "metadata": {},
   "outputs": [],
   "source": [
    "lgmu_infall = -1.0 + ZZ\n",
    "logmhost_infall = logmp0\n",
    "gyr_since_infall = ZZ\n",
    "upids = np.zeros(n_halos).astype(int)-1\n",
    "\n",
    "mc_diffstar_result = mc_diffstar_sfh_galpop(\n",
    "    DEFAULT_DIFFSTARPOP_PARAMS,\n",
    "    mah_params,\n",
    "    logmp0,\n",
    "    upids,\n",
    "    lgmu_infall,\n",
    "    logmhost_infall,\n",
    "    gyr_since_infall,\n",
    "    sfh_key,\n",
    "    tarr,\n",
    ")\n",
    "\n",
    "print(mc_diffstar_result._fields)"
   ]
  },
  {
   "cell_type": "markdown",
   "id": "0d76ab8e-87ab-41a3-918a-e0570a8ed104",
   "metadata": {},
   "source": [
    "The `mc_diffstar_sfh_galpop` function returns a namedtuple storing Diffstar parameters and SFHs for two different possible outcomes, depending on whether the galaxy does or does not experience a quenching event. In order to select a Monte Carlo realization of the outcome, we use the `mc_is_q` value as follows:"
   ]
  },
  {
   "cell_type": "code",
   "execution_count": null,
   "id": "12318d66-7ba4-44f9-98c6-daeb8eeaf583",
   "metadata": {},
   "outputs": [],
   "source": [
    "sfh = np.where(mc_diffstar_result.mc_is_q.reshape((n_halos, 1)), mc_diffstar_result.sfh_q, mc_diffstar_result.sfh_ms)"
   ]
  },
  {
   "cell_type": "code",
   "execution_count": null,
   "id": "c1671701",
   "metadata": {},
   "outputs": [],
   "source": [
    "fig, ax = plt.subplots(1, 1)\n",
    "ylim = ax.set_ylim(2e-3, 50)\n",
    "yscale = ax.set_yscale('log')\n",
    "\n",
    "for igal in range(5):\n",
    "    __=ax.plot(tarr, sfh[igal, :])\n",
    "\n",
    "\n",
    "xlabel = ax.set_xlabel(r'${\\rm cosmic\\ time\\ [Gyr]}$')\n",
    "ylabel = ax.set_ylabel(r'${\\rm SFR\\ [M_{\\odot}/yr]}$')\n",
    "ax.set_xticks(np.arange(1.0, 14.0, 2.0))\n"
   ]
  }
 ],
 "metadata": {
  "kernelspec": {
   "display_name": "diffstuff",
   "language": "python",
   "name": "python3"
  },
  "language_info": {
   "codemirror_mode": {
    "name": "ipython",
    "version": 3
   },
   "file_extension": ".py",
   "mimetype": "text/x-python",
   "name": "python",
   "nbconvert_exporter": "python",
   "pygments_lexer": "ipython3",
   "version": "3.11.9"
  }
 },
 "nbformat": 4,
 "nbformat_minor": 5
}
