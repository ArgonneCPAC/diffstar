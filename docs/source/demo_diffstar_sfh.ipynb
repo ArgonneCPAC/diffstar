{
 "cells": [
  {
   "cell_type": "markdown",
   "id": "95b15d28",
   "metadata": {},
   "source": [
    "# Calculating SFH with Diffstar and DiffstarPop\n",
    "\n",
    "This notebook gives two basic illustrations of how to use diffstar to model the SFHs of individual and populations of galaxies.\n",
    "\n",
    "### SFH of an individual diffstar galaxy\n",
    "\n",
    "In the cell below, we'll use the default diffmah and diffstar parameters, and then use the `sfh_singlegal` function to calculate the SFH."
   ]
  },
  {
   "cell_type": "code",
   "execution_count": null,
   "id": "762e2180",
   "metadata": {},
   "outputs": [],
   "source": [
    "import numpy as np\n",
    "from diffstar.defaults import DEFAULT_MAH_PARAMS\n",
    "from diffstar.defaults import DEFAULT_DIFFSTAR_PARAMS\n",
    "\n",
    "today_gyr = 13.8 \n",
    "tarr = np.linspace(0.9, today_gyr, 100)"
   ]
  },
  {
   "cell_type": "code",
   "execution_count": null,
   "id": "3d793eb0",
   "metadata": {},
   "outputs": [],
   "source": [
    "from diffstar import calc_sfh_singlegal\n",
    "\n",
    "sfh_gal = calc_sfh_singlegal(\n",
    "    DEFAULT_DIFFSTAR_PARAMS, DEFAULT_MAH_PARAMS, tarr)"
   ]
  },
  {
   "cell_type": "code",
   "execution_count": null,
   "id": "b18b32ac-825f-46d9-8f5f-f8f6cdb44556",
   "metadata": {},
   "outputs": [],
   "source": [
    "from matplotlib import pyplot as plt\n",
    "\n",
    "fig, ax = plt.subplots(1, 1)\n",
    "ylim = ax.set_ylim(2e-3, 50)\n",
    "yscale = ax.set_yscale('log')\n",
    "\n",
    "__=ax.plot(tarr, sfh_gal, color='k')\n",
    "\n",
    "xlabel = ax.set_xlabel(r'${\\rm cosmic\\ time\\ [Gyr]}$')\n",
    "ylabel = ax.set_ylabel(r'${\\rm SFR\\ [M_{\\odot}/yr]}$')"
   ]
  },
  {
   "cell_type": "markdown",
   "id": "ee664cae",
   "metadata": {},
   "source": [
    "### Generating populations of galaxy SFHs with DiffstarPop\n",
    "\n",
    "DiffstarPop is a population-level model of Diffstar SFHs. DiffstarPop is formulated to capture $P(\\theta_{\\rm SFH}\\vert\\theta_{\\rm MAH}),$\n",
    "the PDF of diffstar properties, $\\theta_{\\rm SFH},$ conditioned on the diffmah parameters of halo mass assembly, $\\theta_{\\rm MAH}.$ Thus in the cells below, we will first use DiffmahPop to generate a cosmologically representative population of diffmah parameters for halos with Milky Way mass today, and then we will use DiffstarPop to create a Monte Carlo realization of the galaxy SFHs that live in the halos."
   ]
  },
  {
   "cell_type": "code",
   "execution_count": null,
   "id": "1abbf91c-f0a4-4c51-a23e-6bf86974b2b3",
   "metadata": {},
   "outputs": [],
   "source": [
    "from jax import random as jran\n",
    "ran_key = jran.key(0)"
   ]
  },
  {
   "cell_type": "code",
   "execution_count": null,
   "id": "3f70fa9d-5fcd-44d2-9d8b-66e7f5e5cb37",
   "metadata": {},
   "outputs": [],
   "source": [
    "from diffmah.diffmahpop_kernels import mc_cenpop, DEFAULT_DIFFMAHPOP_PARAMS\n",
    "\n",
    "n_halos = 500\n",
    "lgm_obs = np.zeros(n_halos) + 12.0\n",
    "t_obs = np.zeros(n_halos) + tarr[-1]\n",
    "logt0 = np.log10(tarr[-1])\n",
    "\n",
    "ran_key, mah_key = jran.split(ran_key, 2)\n",
    "halopop = mc_cenpop(DEFAULT_DIFFMAHPOP_PARAMS, tarr, lgm_obs, t_obs, mah_key, logt0)\n",
    "\n",
    "fig, ax = plt.subplots(1, 1)\n",
    "yscale = ax.set_yscale('log')\n",
    "for ih in range(5):\n",
    "    __=ax.plot(tarr, 10**halopop.log_mah[ih, :])\n",
    "\n",
    "xlabel = ax.set_xlabel(r'${\\rm cosmic\\ time\\ [Gyr]}$')\n",
    "ylabel = ax.set_ylabel(r'$M_{\\rm halo}(t)\\ {\\rm [M_{\\odot}]}$')"
   ]
  },
  {
   "cell_type": "code",
   "execution_count": null,
   "id": "13c6cb77-a6ca-46d1-a2f2-ef1a2cb365f5",
   "metadata": {},
   "outputs": [],
   "source": [
    "from diffstar.diffstarpop import mc_diffstar_sfh_galpop, DEFAULT_DIFFSTARPOP_PARAMS\n",
    "\n",
    "ZZ = np.zeros(n_halos)\n",
    "\n",
    "ran_key, sfh_key = jran.split(ran_key, 2)\n",
    "lgmu_infall = -1.0 + ZZ\n",
    "logmhost_infall = 13.0 + ZZ\n",
    "gyr_since_infall = 2.0 + ZZ\n",
    "upids = np.zeros(n_halos).astype(int)-1\n",
    "\n",
    "_res = mc_diffstar_sfh_galpop(\n",
    "    DEFAULT_DIFFSTARPOP_PARAMS,\n",
    "    halopop.mah_params,\n",
    "    halopop.log_mah[:, -1],\n",
    "    upids,\n",
    "    lgmu_infall,\n",
    "    logmhost_infall,\n",
    "    gyr_since_infall,\n",
    "    sfh_key,\n",
    "    tarr,\n",
    ")\n",
    "sfh_q, sfh_ms = _res[2:4]\n",
    "mc_is_q = _res[-1]\n",
    "\n",
    "sfh = np.where(mc_is_q.reshape((n_halos, 1)), sfh_q, sfh_ms)"
   ]
  },
  {
   "cell_type": "code",
   "execution_count": null,
   "id": "c1671701",
   "metadata": {},
   "outputs": [],
   "source": [
    "fig, ax = plt.subplots(1, 1)\n",
    "ylim = ax.set_ylim(2e-3, 50)\n",
    "yscale = ax.set_yscale('log')\n",
    "\n",
    "for igal in range(5):\n",
    "    __=ax.plot(tarr, sfh[igal, :])\n",
    "\n",
    "\n",
    "xlabel = ax.set_xlabel(r'${\\rm cosmic\\ time\\ [Gyr]}$')\n",
    "ylabel = ax.set_ylabel(r'${\\rm SFR\\ [M_{\\odot}/yr]}$')"
   ]
  },
  {
   "cell_type": "code",
   "execution_count": null,
   "id": "1b780056",
   "metadata": {},
   "outputs": [],
   "source": []
  }
 ],
 "metadata": {
  "kernelspec": {
   "display_name": "Python 3 (ipykernel)",
   "language": "python",
   "name": "python3"
  },
  "language_info": {
   "codemirror_mode": {
    "name": "ipython",
    "version": 3
   },
   "file_extension": ".py",
   "mimetype": "text/x-python",
   "name": "python",
   "nbconvert_exporter": "python",
   "pygments_lexer": "ipython3",
   "version": "3.12.9"
  }
 },
 "nbformat": 4,
 "nbformat_minor": 5
}
