{
 "cells": [
  {
   "cell_type": "markdown",
   "id": "95b15d28",
   "metadata": {},
   "source": [
    "# Calculating SFH with Diffstar\n",
    "\n",
    "This notebook gives two basic illustrations of how to use diffstar to model the SFHs of individual and populations of galaxies.\n",
    "\n",
    "### SFH of an individual diffstar galaxy\n",
    "\n",
    "In the cell below, we'll grab the default diffmah and diffstar parameters, then we'l use the `sfh_singlegal` function to calculate the SFH."
   ]
  },
  {
   "cell_type": "code",
   "execution_count": null,
   "id": "762e2180",
   "metadata": {},
   "outputs": [],
   "source": [
    "import numpy as np\n",
    "from diffstar.defaults import DEFAULT_MAH_PARAMS\n",
    "from diffstar.defaults import DEFAULT_MS_PARAMS\n",
    "from diffstar.defaults import DEFAULT_Q_PARAMS\n",
    "\n",
    "today_gyr = 13.8 \n",
    "tarr = np.linspace(0.1, today_gyr, 100)"
   ]
  },
  {
   "cell_type": "code",
   "execution_count": null,
   "id": "3d793eb0",
   "metadata": {},
   "outputs": [],
   "source": [
    "from diffstar import sfh_singlegal\n",
    "\n",
    "sfh_gal = sfh_singlegal(\n",
    "    tarr, DEFAULT_MAH_PARAMS, DEFAULT_MS_PARAMS, DEFAULT_Q_PARAMS)"
   ]
  },
  {
   "cell_type": "markdown",
   "id": "ee664cae",
   "metadata": {},
   "source": [
    "### SFHs of a population of diffstar galaxies\n",
    "\n",
    "For purposes of this toy demonstration, we'll first create a small diffstar population by randomly adding noise to the default diffstar parameters."
   ]
  },
  {
   "cell_type": "code",
   "execution_count": null,
   "id": "de3e0c80",
   "metadata": {},
   "outputs": [],
   "source": [
    "n_gals = 5\n",
    "\n",
    "mah_params_galpop = np.tile(DEFAULT_MAH_PARAMS, n_gals)\n",
    "mah_params_galpop = mah_params_galpop.reshape((n_gals, -1))\n",
    "\n",
    "ms_params_galpop = np.tile(DEFAULT_MS_PARAMS, n_gals)\n",
    "ms_params_galpop = ms_params_galpop.reshape((n_gals, -1))\n",
    "\n",
    "q_params_galpop = np.tile(DEFAULT_Q_PARAMS, n_gals)\n",
    "q_params_galpop = q_params_galpop.reshape((n_gals, -1))\n",
    "\n",
    "ms_noise = np.random.normal(\n",
    "    loc=0, scale=0.25, size=(n_gals, DEFAULT_MS_PARAMS.size))\n",
    "ms_params_galpop = ms_params_galpop + ms_noise\n",
    "\n",
    "q_noise = np.random.normal(\n",
    "    loc=0, scale=0.1, size=(n_gals, DEFAULT_Q_PARAMS.size))\n",
    "q_params_galpop = q_params_galpop + q_noise"
   ]
  },
  {
   "cell_type": "markdown",
   "id": "4f1edbf7",
   "metadata": {},
   "source": [
    "The `sfh_galpop` calculates the SFH of an entire population at once. This calculation is vectorized with `jax.vmap` and so will be more efficient than a loop over successive calls to `sfh_singlegal`."
   ]
  },
  {
   "cell_type": "code",
   "execution_count": null,
   "id": "1025d1a5",
   "metadata": {},
   "outputs": [],
   "source": [
    "from diffstar import sfh_galpop\n",
    "\n",
    "sfh_pop = sfh_galpop(\n",
    "    tarr, mah_params_galpop, ms_params_galpop, q_params_galpop)"
   ]
  },
  {
   "cell_type": "code",
   "execution_count": null,
   "id": "c1671701",
   "metadata": {},
   "outputs": [],
   "source": [
    "from matplotlib import pyplot as plt\n",
    "\n",
    "fig, ax = plt.subplots(1, 1)\n",
    "ylim = ax.set_ylim(1e-3, 50)\n",
    "yscale = ax.set_yscale('log')\n",
    "\n",
    "__=ax.plot(tarr, sfh_gal, '--', color='k')\n",
    "\n",
    "for igal in range(n_gals):\n",
    "    __=ax.plot(tarr, sfh_pop[igal, :])\n",
    "\n",
    "\n",
    "xlabel = ax.set_xlabel(r'${\\rm cosmic\\ time\\ [Gyr]}$')\n",
    "ylabel = ax.set_ylabel(r'${\\rm SFR\\ [M_{\\odot}/yr]}$')"
   ]
  },
  {
   "cell_type": "code",
   "execution_count": null,
   "id": "1b780056",
   "metadata": {},
   "outputs": [],
   "source": []
  }
 ],
 "metadata": {
  "kernelspec": {
   "display_name": "Python 3 (ipykernel)",
   "language": "python",
   "name": "python3"
  },
  "language_info": {
   "codemirror_mode": {
    "name": "ipython",
    "version": 3
   },
   "file_extension": ".py",
   "mimetype": "text/x-python",
   "name": "python",
   "nbconvert_exporter": "python",
   "pygments_lexer": "ipython3",
   "version": "3.11.4"
  }
 },
 "nbformat": 4,
 "nbformat_minor": 5
}
