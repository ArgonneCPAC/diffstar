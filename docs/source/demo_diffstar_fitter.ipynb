{
 "cells": [
  {
   "cell_type": "markdown",
   "id": "cf251b79",
   "metadata": {},
   "source": [
    "# Demo of fitting individual galaxy SFHs with Diffstar\n",
    "\n",
    "This notebook illustrates a worked example of how to fit an individual SFH of a simulated galaxy with the diffstar model. For a parallelized script, see `history_fitting_script.py`. First we'll download a very small dataset of a handful of galaxies from the TNG simulation."
   ]
  },
  {
   "cell_type": "code",
   "execution_count": null,
   "id": "77b8d8a3",
   "metadata": {},
   "outputs": [],
   "source": [
    "! curl https://portal.nersc.gov/project/hacc/aphearin/diffstar_data/tng_cosmic_time.txt > tng_cosmic_time.txt"
   ]
  },
  {
   "cell_type": "code",
   "execution_count": null,
   "id": "e123436a",
   "metadata": {},
   "outputs": [],
   "source": [
    "! curl https://portal.nersc.gov/project/hacc/aphearin/diffstar_data/tng_diffstar_example_data.h5 > tng_diffstar_example_data.h5"
   ]
  },
  {
   "cell_type": "code",
   "execution_count": null,
   "id": "c2e5bba1",
   "metadata": {},
   "outputs": [],
   "source": [
    "import numpy as np\n",
    "from matplotlib import pyplot as plt"
   ]
  },
  {
   "cell_type": "code",
   "execution_count": null,
   "id": "16867183",
   "metadata": {},
   "outputs": [],
   "source": [
    "import h5py\n",
    "\n",
    "fn_example_data = 'tng_diffstar_example_data.h5'\n",
    "tng_data = dict()\n",
    "with h5py.File(fn_example_data, 'r') as hdf:\n",
    "    for key in hdf.keys():\n",
    "        tng_data[key] = hdf[key][...]\n",
    "tng_data.keys()\n",
    "n_halos = len(tng_data['halo_id'])"
   ]
  },
  {
   "cell_type": "code",
   "execution_count": null,
   "id": "404e8b3a",
   "metadata": {},
   "outputs": [],
   "source": [
    "from diffstar.utils import _jax_get_dt_array\n",
    "\n",
    "tarr = np.loadtxt('tng_cosmic_time.txt')\n",
    "dtarr = _jax_get_dt_array(tarr)"
   ]
  },
  {
   "cell_type": "markdown",
   "id": "f31d696f",
   "metadata": {},
   "source": [
    "## Pick a particular example galaxy history to fit"
   ]
  },
  {
   "cell_type": "code",
   "execution_count": null,
   "id": "64d8096a",
   "metadata": {},
   "outputs": [],
   "source": [
    "from diffstar.fitting_helpers.fit_smah_helpers import get_loss_data_default\n",
    "itest = 0\n",
    "\n",
    "halo_id = tng_data['halo_id'][itest]\n",
    "lgsmah = tng_data['logsmh_sim'][itest]\n",
    "sfrh = tng_data['sfh_sim'][itest]\n",
    "mah_params = tng_data['mah_fit_params'][itest]\n",
    "logmp_halo = tng_data['logmp'][itest]\n",
    "\n",
    "p_init, loss_data = get_loss_data_default(\n",
    "    tarr, dtarr, sfrh, lgsmah, logmp_halo, mah_params\n",
    ")"
   ]
  },
  {
   "cell_type": "markdown",
   "id": "4671845a",
   "metadata": {},
   "source": [
    "## Use L-BFGS-B to fit the SFH with diffstar"
   ]
  },
  {
   "cell_type": "code",
   "execution_count": null,
   "id": "c20ecd9e",
   "metadata": {},
   "outputs": [],
   "source": [
    "from diffstar.fitting_helpers.fit_smah_helpers import loss_default, loss_grad_default_np\n",
    "from diffstar.fitting_helpers.utils import minimizer_wrapper\n",
    "\n",
    "\n",
    "_res = minimizer_wrapper(\n",
    "    loss_default, loss_grad_default_np, p_init, loss_data, \n",
    ")\n",
    "p_best, loss_best, success = _res"
   ]
  },
  {
   "cell_type": "markdown",
   "id": "4fbe8eb3",
   "metadata": {},
   "source": [
    "## Grab the unbounded values of the best-fit parameters"
   ]
  },
  {
   "cell_type": "code",
   "execution_count": null,
   "id": "965001a9",
   "metadata": {},
   "outputs": [],
   "source": [
    "from diffstar.fitting_helpers.fit_smah_helpers import get_outline_default, get_header\n",
    "\n",
    "outline = get_outline_default(halo_id, loss_data, p_best, loss_best, success)\n",
    "header = get_header()\n",
    "\n",
    "output_data = dict(zip(header[1:].strip().split(), outline.strip().split()))\n",
    "\n",
    "colnames = list(output_data.keys())\n",
    "sfr_colnames = colnames[1:6]\n",
    "q_colnames = colnames[6:10]\n",
    "\n",
    "u_sfr_fit_params = np.array([output_data[key] for key in sfr_colnames]).astype(float)\n",
    "u_q_fit_params = np.array([output_data[key] for key in q_colnames]).astype(float)\n",
    "\n",
    "output_data"
   ]
  },
  {
   "cell_type": "markdown",
   "id": "85d76269",
   "metadata": {},
   "source": [
    "## Transform the unbounded parameters to the actual `diffstar` parameters"
   ]
  },
  {
   "cell_type": "code",
   "execution_count": null,
   "id": "ff133a33",
   "metadata": {},
   "outputs": [],
   "source": [
    "from diffstar.kernels.main_sequence_kernels import _get_bounded_sfr_params\n",
    "from diffstar.kernels.quenching_kernels import _get_bounded_q_params\n",
    "\n",
    "sfr_fit_params = np.array(_get_bounded_sfr_params(*u_sfr_fit_params))\n",
    "q_fit_params = np.array(_get_bounded_q_params(*u_q_fit_params))"
   ]
  },
  {
   "cell_type": "markdown",
   "id": "f15ee3c4",
   "metadata": {},
   "source": [
    "## Calculate histories using the best-fit model"
   ]
  },
  {
   "cell_type": "code",
   "execution_count": null,
   "id": "d5616364",
   "metadata": {},
   "outputs": [],
   "source": [
    "from diffstar.fitting_helpers.fitting_kernels import calculate_sm_sfr_fstar_history_from_mah\n",
    "\n",
    "dmhdt_fit, log_mah_fit = loss_data[2:4]\n",
    "lgt = np.log10(tarr)\n",
    "index_select, index_high, fstar_tdelay = loss_data[8:11]\n",
    "    \n",
    "_histories = calculate_sm_sfr_fstar_history_from_mah(\n",
    "    lgt,\n",
    "    dtarr,\n",
    "    dmhdt_fit,\n",
    "    log_mah_fit,\n",
    "    u_sfr_fit_params,\n",
    "    u_q_fit_params,\n",
    "    index_select,\n",
    "    index_high,\n",
    "    fstar_tdelay,\n",
    ")\n",
    "smh_fit, sfh_fit, fstar_fit = _histories"
   ]
  },
  {
   "cell_type": "markdown",
   "id": "1a39b2fc",
   "metadata": {},
   "source": [
    "## Compare the model to the simulated SFH"
   ]
  },
  {
   "cell_type": "code",
   "execution_count": null,
   "id": "6abbe1f1",
   "metadata": {},
   "outputs": [],
   "source": [
    "fig, ax = plt.subplots(1,2, figsize=(10,4), sharex=True)\n",
    "\n",
    "\n",
    "ax[0].plot(tarr, 10**lgsmah, label='IllustrisTNG')\n",
    "ax[0].plot(tarr, smh_fit, ls='--', label='diffstar')\n",
    "ax[0].set_yscale('log')\n",
    "ax[0].set_ylim(1e8, 1e12)\n",
    "ax[0].set_xlim(0, 14)\n",
    "ax[0].set_xlabel('Cosmic time [Gyr]')\n",
    "ax[0].set_ylabel('$M_\\star [M_{\\odot}]$')\n",
    "ax[0].legend(loc=4)\n",
    "\n",
    "ax[1].plot(tarr, sfrh)\n",
    "ax[1].plot(tarr, sfh_fit, ls='--')\n",
    "ax[1].set_yscale('log')\n",
    "ax[1].set_ylim(1e-1, 5e2)\n",
    "ax[1].set_xlim(0, 14)\n",
    "ax[1].set_xticks(np.arange(1,14,2))\n",
    "ax[1].set_xlabel('Cosmic time [Gyr]')\n",
    "ax[1].set_ylabel('$dM_\\star/dt \\,[M_{\\odot}/yr]$')\n",
    "fig.subplots_adjust(wspace=0.3)\n",
    "\n",
    "plt.show()"
   ]
  },
  {
   "cell_type": "markdown",
   "id": "4e0fa4c8",
   "metadata": {},
   "source": [
    "## Show the model main sequence efficiency and quenching function"
   ]
  },
  {
   "cell_type": "code",
   "execution_count": null,
   "id": "d06ea70f",
   "metadata": {},
   "outputs": [],
   "source": [
    "from diffstar.kernels.main_sequence_kernels import _sfr_eff_plaw\n",
    "from diffstar.kernels.quenching_kernels import _quenching_kern_u_params\n",
    "\n",
    "_m = np.linspace(10, 14, 100)\n",
    "MS_efficiency_fit = _sfr_eff_plaw(_m, *sfr_fit_params[:-1])\n",
    "_t = np.linspace(-1,2,1000)\n",
    "qf = _quenching_kern_u_params(_t, *u_q_fit_params)\n",
    "\n",
    "fig, ax = plt.subplots(1,2, figsize=(10,4), sharex=False)\n",
    "\n",
    "\n",
    "ax[0].plot(_m, MS_efficiency_fit)\n",
    "ax[0].set_yscale('log')\n",
    "ax[0].set_ylim(1e-2, 1.5)\n",
    "ax[0].set_xlim(10, 13)\n",
    "ax[0].set_xticks(np.arange(10,13.1,1.0))\n",
    "ax[0].set_xlabel('$\\log M_{h}(t) \\, [M_{\\odot}]$')\n",
    "ax[0].set_ylabel('$\\epsilon(M_{h}(t))$')\n",
    "\n",
    "ax[1].plot(10**_t, qf)\n",
    "ax[1].set_xlim(0, 14)\n",
    "ax[1].set_ylim(0, 1.05)\n",
    "ax[1].set_xticks(np.arange(1,14,2))\n",
    "ax[1].set_xlabel('Cosmic time [Gyr]')\n",
    "ax[1].set_ylabel('$F_q(t)$')\n",
    "fig.subplots_adjust(wspace=0.3)\n"
   ]
  },
  {
   "cell_type": "code",
   "execution_count": null,
   "id": "208ae981",
   "metadata": {},
   "outputs": [],
   "source": []
  }
 ],
 "metadata": {
  "kernelspec": {
   "display_name": "Python 3 (ipykernel)",
   "language": "python",
   "name": "python3"
  },
  "language_info": {
   "codemirror_mode": {
    "name": "ipython",
    "version": 3
   },
   "file_extension": ".py",
   "mimetype": "text/x-python",
   "name": "python",
   "nbconvert_exporter": "python",
   "pygments_lexer": "ipython3",
   "version": "3.11.5"
  }
 },
 "nbformat": 4,
 "nbformat_minor": 5
}
