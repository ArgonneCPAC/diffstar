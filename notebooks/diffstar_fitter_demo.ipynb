{
 "cells": [
  {
   "cell_type": "code",
   "execution_count": null,
   "id": "c113bee8",
   "metadata": {},
   "outputs": [],
   "source": [
    "import numpy as np\n",
    "import matplotlib.pyplot as plt"
   ]
  },
  {
   "cell_type": "markdown",
   "id": "22adefc1",
   "metadata": {},
   "source": [
    "# Demonstration of how to fit halo MAHs with the `diffstar` model"
   ]
  },
  {
   "cell_type": "markdown",
   "id": "14b6a060",
   "metadata": {},
   "source": [
    "This notebook illustrates a worked example of how to fit an individual halo SFH with the diffstar model. For a parallelized script, see `history_fitting_script.py`."
   ]
  },
  {
   "cell_type": "markdown",
   "id": "2133ec56",
   "metadata": {},
   "source": [
    "## Load a block of target data\n"
   ]
  },
  {
   "cell_type": "markdown",
   "id": "407daea2",
   "metadata": {},
   "source": [
    "These data can be downloaded from the site hosting the project data. But in principle the fitting function should work with data from any sim."
   ]
  },
  {
   "cell_type": "code",
   "execution_count": null,
   "id": "590840f8",
   "metadata": {},
   "outputs": [],
   "source": [
    "from diffstar.data_loaders.load_smah_data import load_tng_data, load_fit_mah, LAPTOP"
   ]
  },
  {
   "cell_type": "code",
   "execution_count": null,
   "id": "cb9d84b1",
   "metadata": {},
   "outputs": [],
   "source": [
    "# This is the TNG simulation data.\n",
    "halo_ids, log_smahs, sfrhs, tarr, dt = load_tng_data(\"cens\", data_drn=LAPTOP)\n",
    "# This is the best-fit diffmah parameters fit to each TNG halo.\n",
    "mah_fit_params, logmp = load_fit_mah(\"run1_tng_diffmah\", data_drn=LAPTOP)"
   ]
  },
  {
   "cell_type": "markdown",
   "id": "c13bf819",
   "metadata": {},
   "source": [
    "## Pick a particular example galaxy history to fit\n"
   ]
  },
  {
   "cell_type": "code",
   "execution_count": null,
   "id": "65800317",
   "metadata": {},
   "outputs": [],
   "source": [
    "from diffstar.fit_smah_helpers import get_loss_data_default\n",
    "\n",
    "itest = 0\n",
    "itest = np.arange(len(logmp))[(logmp>13.0)&(logmp<13.1)][itest]\n",
    "\n",
    "halo_id = halo_ids[itest]\n",
    "lgsmah = log_smahs[itest]\n",
    "sfrh = sfrhs[itest]\n",
    "mah_params = mah_fit_params[itest]\n",
    "logmp_halo = logmp[itest]\n",
    "\n",
    "p_init, loss_data = get_loss_data_default(\n",
    "    tarr, dt, sfrh, lgsmah, logmp_halo, mah_params\n",
    ")"
   ]
  },
  {
   "cell_type": "markdown",
   "id": "2b468f0a",
   "metadata": {},
   "source": [
    "## Use L-BFGS-B to fit the SFH with the smooth model"
   ]
  },
  {
   "cell_type": "code",
   "execution_count": null,
   "id": "6d910114",
   "metadata": {},
   "outputs": [],
   "source": [
    "from diffstar.fit_smah_helpers import loss_default, loss_grad_default_np\n",
    "from diffstar.utils import minimizer_wrapper\n",
    "\n",
    "\n",
    "_res = minimizer_wrapper(\n",
    "    loss_default, loss_grad_default_np, p_init, loss_data, \n",
    ")\n",
    "p_best, loss_best, success = _res"
   ]
  },
  {
   "cell_type": "markdown",
   "id": "44c8e2e2",
   "metadata": {},
   "source": [
    "## Grab the unbounded values of the best-fit parameters\n"
   ]
  },
  {
   "cell_type": "code",
   "execution_count": null,
   "id": "71ef0d2d",
   "metadata": {},
   "outputs": [],
   "source": [
    "from diffstar.fit_smah_helpers import get_outline_default, get_header\n",
    "\n",
    "outline = get_outline_default(halo_id, loss_data, p_best, loss_best, success)\n",
    "header = get_header()\n",
    "\n",
    "output_data = dict(zip(header[1:].strip().split(), outline.strip().split()))\n",
    "\n",
    "colnames = list(output_data.keys())\n",
    "sfr_colnames = colnames[1:6]\n",
    "q_colnames = colnames[6:10]\n",
    "\n",
    "u_sfr_fit_params = np.array([output_data[key] for key in sfr_colnames]).astype(float)\n",
    "u_q_fit_params = np.array([output_data[key] for key in q_colnames]).astype(float)\n",
    "\n",
    "output_data"
   ]
  },
  {
   "cell_type": "markdown",
   "id": "02e77db7",
   "metadata": {},
   "source": [
    "## Transform the unbounded parameters to the actual `diffstar` parameters\n"
   ]
  },
  {
   "cell_type": "code",
   "execution_count": null,
   "id": "08eb60d9",
   "metadata": {},
   "outputs": [],
   "source": [
    "from diffstar.stars import _get_bounded_sfr_params\n",
    "from diffstar.kernels.quenching_kernels import _get_bounded_q_params\n",
    "\n",
    "sfr_fit_params = np.array(_get_bounded_sfr_params(*u_sfr_fit_params))\n",
    "q_fit_params = np.array(_get_bounded_q_params(*u_q_fit_params))"
   ]
  },
  {
   "cell_type": "markdown",
   "id": "d59a2918",
   "metadata": {},
   "source": [
    "## Calculate histories using the best-fit model\n"
   ]
  },
  {
   "cell_type": "code",
   "execution_count": null,
   "id": "89336a0b",
   "metadata": {},
   "outputs": [],
   "source": [
    "from diffstar.stars import calculate_sm_sfr_fstar_history_from_mah\n",
    "\n",
    "dmhdt_fit, log_mah_fit = loss_data[2:4]\n",
    "lgt = np.log10(tarr)\n",
    "index_select, index_high, fstar_tdelay = loss_data[8:11]\n",
    "    \n",
    "_histories = calculate_sm_sfr_fstar_history_from_mah(\n",
    "    lgt,\n",
    "    dt,\n",
    "    dmhdt_fit,\n",
    "    log_mah_fit,\n",
    "    u_sfr_fit_params,\n",
    "    u_q_fit_params,\n",
    "    index_select,\n",
    "    index_high,\n",
    "    fstar_tdelay,\n",
    ")\n",
    "smh_fit, sfh_fit, fstar_fit = _histories"
   ]
  },
  {
   "cell_type": "markdown",
   "id": "dc278a9c",
   "metadata": {},
   "source": [
    "## Compare the model to the simulated SFH\n"
   ]
  },
  {
   "cell_type": "code",
   "execution_count": null,
   "id": "4b7d145f",
   "metadata": {},
   "outputs": [],
   "source": [
    "fig, ax = plt.subplots(1,2, figsize=(10,4), sharex=True)\n",
    "\n",
    "\n",
    "ax[0].plot(tarr, 10**lgsmah, label='IllustrisTNG')\n",
    "ax[0].plot(tarr, smh_fit, ls='--', label='diffstar')\n",
    "ax[0].set_yscale('log')\n",
    "ax[0].set_ylim(1e8, 1e12)\n",
    "ax[0].set_xlim(0, 14)\n",
    "ax[0].set_xlabel('Cosmic time [Gyr]')\n",
    "ax[0].set_ylabel('$M_\\star [M_{\\odot}]$')\n",
    "ax[0].legend(loc=4)\n",
    "\n",
    "ax[1].plot(tarr, sfrh)\n",
    "ax[1].plot(tarr, sfh_fit, ls='--')\n",
    "ax[1].set_yscale('log')\n",
    "ax[1].set_ylim(1e-1, 1e2)\n",
    "ax[1].set_xlim(0, 14)\n",
    "ax[1].set_xticks(np.arange(1,14,2))\n",
    "ax[1].set_xlabel('Cosmic time [Gyr]')\n",
    "ax[1].set_ylabel('$dM_\\star/dt \\,[M_{\\odot}/yr]$')\n",
    "fig.subplots_adjust(wspace=0.3)\n",
    "\n",
    "plt.show()"
   ]
  },
  {
   "cell_type": "markdown",
   "id": "dc49ae5b",
   "metadata": {},
   "source": [
    "## Show the model main sequence efficiency and quenching function"
   ]
  },
  {
   "cell_type": "code",
   "execution_count": null,
   "id": "670ad4c0",
   "metadata": {},
   "outputs": [],
   "source": [
    "from diffstar.stars import _sfr_eff_plaw\n",
    "from diffstar.kernels.quenching_kernels import _quenching_kern_u_params\n",
    "\n",
    "_m = np.linspace(10, 14, 100)\n",
    "MS_efficiency_fit = _sfr_eff_plaw(_m, *sfr_fit_params[:-1])\n",
    "_t = np.linspace(-1,2,1000)\n",
    "qf = _quenching_kern_u_params(_t, *u_q_fit_params)\n",
    "\n",
    "fig, ax = plt.subplots(1,2, figsize=(10,4), sharex=False)\n",
    "\n",
    "\n",
    "ax[0].plot(_m, MS_efficiency_fit)\n",
    "ax[0].set_yscale('log')\n",
    "ax[0].set_ylim(1e-2, 1e0)\n",
    "ax[0].set_xlim(10, 13)\n",
    "ax[0].set_xticks(np.arange(10,13.1,1.0))\n",
    "ax[0].set_xlabel('$\\log M_{h}(t) \\, [M_{\\odot}]$')\n",
    "ax[0].set_ylabel('$\\epsilon(M_{h}(t))$')\n",
    "\n",
    "ax[1].plot(10**_t, qf)\n",
    "ax[1].set_xlim(0, 14)\n",
    "ax[1].set_ylim(0, 1.05)\n",
    "ax[1].set_xticks(np.arange(1,14,2))\n",
    "ax[1].set_xlabel('Cosmic time [Gyr]')\n",
    "ax[1].set_ylabel('$F_q(t)$')\n",
    "fig.subplots_adjust(wspace=0.3)\n"
   ]
  },
  {
   "cell_type": "code",
   "execution_count": null,
   "id": "97b3a90e",
   "metadata": {},
   "outputs": [],
   "source": []
  }
 ],
 "metadata": {
  "kernelspec": {
   "display_name": "Python 3 (ipykernel)",
   "language": "python",
   "name": "python3"
  },
  "language_info": {
   "codemirror_mode": {
    "name": "ipython",
    "version": 3
   },
   "file_extension": ".py",
   "mimetype": "text/x-python",
   "name": "python",
   "nbconvert_exporter": "python",
   "pygments_lexer": "ipython3",
   "version": "3.11.5"
  }
 },
 "nbformat": 4,
 "nbformat_minor": 5
}
