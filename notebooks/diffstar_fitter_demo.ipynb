{
 "cells": [
  {
   "cell_type": "code",
   "execution_count": 1,
   "id": "ae05cc63",
   "metadata": {},
   "outputs": [],
   "source": [
    "import numpy as np\n",
    "import matplotlib.pyplot as plt\n",
    "%matplotlib inline\n",
    "try:\n",
    "    plt.rc('font', family=\"serif\")\n",
    "    plt.rc('font', size=22)\n",
    "    plt.rc('text', usetex=True)\n",
    "    plt.rc('text.latex', preamble=r'\\usepackage{amsmath}') #necessary to use \\dfrac\n",
    "except:\n",
    "    pass\n"
   ]
  },
  {
   "cell_type": "markdown",
   "id": "cda9c968",
   "metadata": {},
   "source": [
    "# Demonstration of how to fit halo MAHs with the `diffstar` model"
   ]
  },
  {
   "cell_type": "markdown",
   "id": "a428d198",
   "metadata": {},
   "source": [
    "This notebook illustrates a worked example of how to fit an individual halo SFH with the diffstar model. For a parallelized script, see `history_fitting_script.py`."
   ]
  },
  {
   "cell_type": "markdown",
   "id": "5816f51c",
   "metadata": {},
   "source": [
    "## Load a block of target data\n"
   ]
  },
  {
   "cell_type": "markdown",
   "id": "b68d6d0f",
   "metadata": {},
   "source": [
    "These data can be downloaded from the site hosting the project data. But in principle the fitting function should work with data from any sim."
   ]
  },
  {
   "cell_type": "code",
   "execution_count": 2,
   "id": "2f03148d",
   "metadata": {},
   "outputs": [],
   "source": [
    "import sys\n",
    "sys.path.append('../scripts')\n",
    "from load_smah_data import load_tng_data, load_fit_mah, LAPTOP \n"
   ]
  },
  {
   "cell_type": "code",
   "execution_count": 3,
   "id": "81334149",
   "metadata": {},
   "outputs": [],
   "source": [
    "# This is the TNG simulation data.\n",
    "halo_ids, log_smahs, sfrhs, tarr, dt = load_tng_data(\"cens\", data_drn=LAPTOP)\n",
    "# This is the best-fit diffmah parameters fit to each TNG halo.\n",
    "mah_fit_params, logmp = load_fit_mah(\"run1_tng_diffmah\", data_drn=LAPTOP)\n"
   ]
  },
  {
   "cell_type": "markdown",
   "id": "cb0adfce",
   "metadata": {},
   "source": [
    "## Pick a particular example galaxy history to fit\n"
   ]
  },
  {
   "cell_type": "code",
   "execution_count": 4,
   "id": "3020b126",
   "metadata": {},
   "outputs": [
    {
     "name": "stderr",
     "output_type": "stream",
     "text": [
      "WARNING:absl:No GPU/TPU found, falling back to CPU. (Set TF_CPP_MIN_LOG_LEVEL=0 and rerun for more info.)\n"
     ]
    }
   ],
   "source": [
    "from diffstar.fit_smah_helpers import get_loss_data_default\n",
    "\n",
    "itest = 0\n",
    "itest = np.arange(len(logmp))[(logmp>13.0)&(logmp<13.1)][itest]\n",
    "\n",
    "halo_id = halo_ids[itest]\n",
    "lgsmah = log_smahs[itest]\n",
    "sfrh = sfrhs[itest]\n",
    "mah_params = mah_fit_params[itest]\n",
    "logmp_halo = logmp[itest]\n",
    "\n",
    "p_init, loss_data = get_loss_data_default(\n",
    "    tarr, dt, sfrh, lgsmah, logmp_halo, mah_params\n",
    ")"
   ]
  },
  {
   "cell_type": "markdown",
   "id": "39868f7b",
   "metadata": {},
   "source": [
    "## Use L-BFGS-B to fit the SFH with the smooth model"
   ]
  },
  {
   "cell_type": "code",
   "execution_count": 5,
   "id": "6afcbe45",
   "metadata": {},
   "outputs": [],
   "source": [
    "from diffstar.fit_smah_helpers import loss_default, loss_grad_default_np\n",
    "from diffstar.utils import minimizer_wrapper\n",
    "\n",
    "\n",
    "_res = minimizer_wrapper(\n",
    "    loss_default, loss_grad_default_np, p_init, loss_data, \n",
    ")\n",
    "p_best, loss_best, success = _res"
   ]
  },
  {
   "cell_type": "markdown",
   "id": "0d8ff550",
   "metadata": {},
   "source": [
    "## Grab the unbounded values of the best-fit parameters\n"
   ]
  },
  {
   "cell_type": "code",
   "execution_count": 6,
   "id": "b18454cd",
   "metadata": {},
   "outputs": [
    {
     "data": {
      "text/plain": [
       "{'halo_id': '1251',\n",
       " 'lgmcrit': '1.18055e+01',\n",
       " 'lgy_at_mcrit': '-2.24153e-01',\n",
       " 'indx_k': '9.00689e+00',\n",
       " 'indx_lo': '-1.40368e+00',\n",
       " 'indx_hi': '-7.67132e-01',\n",
       " 'floor_low': '-2.87973e-01',\n",
       " 'tau_dep': '-4.80446e+00',\n",
       " 'qt': '1.11470e+00',\n",
       " 'qs': '-5.73046e-01',\n",
       " 'q_drop': '-1.19688e+00',\n",
       " 'q_rejuv': '3.52610e-03',\n",
       " 'loss': '2.08893e-02',\n",
       " 'success': '1'}"
      ]
     },
     "execution_count": 6,
     "metadata": {},
     "output_type": "execute_result"
    }
   ],
   "source": [
    "from diffstar.fit_smah_helpers import get_outline_default, get_header\n",
    "\n",
    "outline = get_outline_default(halo_id, loss_data, p_best, loss_best, success)\n",
    "header = get_header()\n",
    "\n",
    "output_data = dict(zip(header[1:].strip().split(), outline.strip().split()))\n",
    "\n",
    "colnames = list(output_data.keys())\n",
    "sfr_colnames = colnames[1:8]\n",
    "q_colnames = colnames[8:12]\n",
    "\n",
    "u_sfr_fit_params = np.array([output_data[key] for key in sfr_colnames]).astype(float)\n",
    "u_q_fit_params = np.array([output_data[key] for key in q_colnames]).astype(float)\n",
    "\n",
    "output_data"
   ]
  },
  {
   "cell_type": "markdown",
   "id": "6bda240c",
   "metadata": {},
   "source": [
    "## Transform the unbounded parameters to the actual `diffstar` parameters\n"
   ]
  },
  {
   "cell_type": "code",
   "execution_count": 7,
   "id": "da7b86df",
   "metadata": {},
   "outputs": [],
   "source": [
    "from diffstar.stars import _get_bounded_sfr_params\n",
    "from diffstar.quenching import _get_bounded_q_params\n",
    "\n",
    "sfr_fit_params = np.array(_get_bounded_sfr_params(*u_sfr_fit_params))\n",
    "q_fit_params = np.array(_get_bounded_q_params(*u_q_fit_params))\n"
   ]
  },
  {
   "cell_type": "markdown",
   "id": "8b85e054",
   "metadata": {},
   "source": [
    "## Calculate histories using the best-fit model\n"
   ]
  },
  {
   "cell_type": "code",
   "execution_count": 8,
   "id": "204fc0bc",
   "metadata": {},
   "outputs": [],
   "source": [
    "from diffstar.stars import calculate_sm_sfr_fstar_history_from_mah\n",
    "\n",
    "dmhdt_fit, log_mah_fit = loss_data[2:4]\n",
    "lgt = np.log10(tarr)\n",
    "index_select, index_high, fstar_tdelay = loss_data[8:11]\n",
    "    \n",
    "_histories = calculate_sm_sfr_fstar_history_from_mah(\n",
    "    lgt,\n",
    "    dt,\n",
    "    dmhdt_fit,\n",
    "    log_mah_fit,\n",
    "    u_sfr_fit_params,\n",
    "    u_q_fit_params,\n",
    "    index_select,\n",
    "    index_high,\n",
    "    fstar_tdelay,\n",
    ")\n",
    "smh_fit, sfh_fit, fstar_fit = _histories"
   ]
  },
  {
   "cell_type": "markdown",
   "id": "a419f02d",
   "metadata": {},
   "source": [
    "## Compare the model to the simulated SFH\n"
   ]
  },
  {
   "cell_type": "code",
   "execution_count": 9,
   "id": "870e94aa",
   "metadata": {},
   "outputs": [
    {
     "data": {
      "image/png": "[encoded data removed]",
      "text/plain": [
       "<Figure size 720x288 with 2 Axes>"
      ]
     },
     "metadata": {
      "needs_background": "light"
     },
     "output_type": "display_data"
    }
   ],
   "source": [
    "fig, ax = plt.subplots(1,2, figsize=(10,4), sharex=True)\n",
    "\n",
    "\n",
    "ax[0].plot(tarr, 10**lgsmah, label='IllustrisTNG')\n",
    "ax[0].plot(tarr, smh_fit, ls='--', label='diffstar')\n",
    "ax[0].set_yscale('log')\n",
    "ax[0].set_ylim(1e8, 1e12)\n",
    "ax[0].set_xlim(0, 14)\n",
    "ax[0].set_xlabel('Cosmic time [Gyr]')\n",
    "ax[0].set_ylabel('$M_\\star [M_{\\odot}]$')\n",
    "ax[0].legend(loc=4)\n",
    "\n",
    "ax[1].plot(tarr, sfrh)\n",
    "ax[1].plot(tarr, sfh_fit, ls='--')\n",
    "ax[1].set_yscale('log')\n",
    "ax[1].set_ylim(1e-1, 1e2)\n",
    "ax[1].set_xlim(0, 14)\n",
    "ax[1].set_xticks(np.arange(1,14,2))\n",
    "ax[1].set_xlabel('Cosmic time [Gyr]')\n",
    "ax[1].set_ylabel('$dM_\\star/dt \\,[M_{\\odot}/yr]$')\n",
    "fig.subplots_adjust(wspace=0.3)\n",
    "\n",
    "plt.show()"
   ]
  },
  {
   "cell_type": "markdown",
   "id": "7c90af11",
   "metadata": {},
   "source": [
    "## Show the model main sequence efficiency and quenching function"
   ]
  },
  {
   "cell_type": "code",
   "execution_count": 16,
   "id": "fd84631d",
   "metadata": {},
   "outputs": [
    {
     "data": {
      "image/png": "[encoded data removed]",
      "text/plain": [
       "<Figure size 720x288 with 2 Axes>"
      ]
     },
     "metadata": {
      "needs_background": "light"
     },
     "output_type": "display_data"
    }
   ],
   "source": [
    "from diffstar.stars import _sfr_eff_plaw\n",
    "from diffstar.quenching import quenching_function\n",
    "\n",
    "_m = np.linspace(10, 14, 100)\n",
    "MS_efficiency_fit = _sfr_eff_plaw(_m, *sfr_fit_params[:-1])\n",
    "_t = np.linspace(-1,2,1000)\n",
    "qf = quenching_function(_t, *u_q_fit_params)\n",
    "\n",
    "fig, ax = plt.subplots(1,2, figsize=(10,4), sharex=False)\n",
    "\n",
    "\n",
    "ax[0].plot(_m, MS_efficiency_fit)\n",
    "ax[0].set_yscale('log')\n",
    "ax[0].set_ylim(1e-2, 1e0)\n",
    "ax[0].set_xlim(10, 13)\n",
    "ax[0].set_xticks(np.arange(10,13.1,1.0))\n",
    "ax[0].set_xlabel('$\\log M_{h}(t) \\, [M_{\\odot}]$')\n",
    "ax[0].set_ylabel('$\\epsilon(M_{h}(t))$')\n",
    "\n",
    "ax[1].plot(10**_t, qf)\n",
    "ax[1].set_xlim(0, 14)\n",
    "ax[1].set_ylim(0, 1.05)\n",
    "ax[1].set_xticks(np.arange(1,14,2))\n",
    "ax[1].set_xlabel('Cosmic time [Gyr]')\n",
    "ax[1].set_ylabel('$F_q(t)$')\n",
    "fig.subplots_adjust(wspace=0.3)\n"
   ]
  },
  {
   "cell_type": "code",
   "execution_count": null,
   "id": "f5dd269b",
   "metadata": {},
   "outputs": [],
   "source": []
  }
 ],
 "metadata": {
  "kernelspec": {
   "display_name": "Python [conda env:diffit] *",
   "language": "python",
   "name": "conda-env-diffit-py"
  },
  "language_info": {
   "codemirror_mode": {
    "name": "ipython",
    "version": 3
   },
   "file_extension": ".py",
   "mimetype": "text/x-python",
   "name": "python",
   "nbconvert_exporter": "python",
   "pygments_lexer": "ipython3",
   "version": "3.7.6"
  }
 },
 "nbformat": 4,
 "nbformat_minor": 5
}
